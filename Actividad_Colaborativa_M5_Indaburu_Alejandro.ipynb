{
 "cells": [
  {
   "cell_type": "markdown",
   "id": "1b1ee21a",
   "metadata": {},
   "source": [
    "# Casos de uso API football-data.org"
   ]
  },
  {
   "cell_type": "code",
   "execution_count": null,
   "id": "07c87cc9",
   "metadata": {},
   "outputs": [],
   "source": [
    "# Importar las librerías necesarias\n",
    "import requests\n",
    "from datetime import datetime\n",
    "\n",
    "# Reemplaza TU_API_KEY con tu clave de la API de football-data.org. Puedes obtener una clave gratuita registrándote en su sitio web\n",
    "API_KEY = \"TU_API_KEY\"\n",
    "\n",
    "headers = {\"X-Auth-Token\": API_KEY}"
   ]
  },
  {
   "cell_type": "markdown",
   "id": "4bec3bd6",
   "metadata": {},
   "source": [
    "A continuación se muestra un ejemplo de un llamado a uno de los endpoints de la categoría Jugadores de la API football-data.org. Se pueden usar otras urls que se encuentran en el pdf \"Actividad_Colaborativa_M5.docx\""
   ]
  },
  {
   "cell_type": "code",
   "execution_count": 7,
   "id": "b358accb",
   "metadata": {},
   "outputs": [
    {
     "data": {
      "text/plain": [
       "{'filters': {'limit': 15,\n",
       "  'offset': 0,\n",
       "  'competitions': 'SA,ESC,FL1',\n",
       "  'permission': 'TIER_ONE',\n",
       "  'status': ['FINISHED']},\n",
       " 'resultSet': {'count': 0},\n",
       " 'aggregations': 'As this a CPU intensive operation, this is only available for paid subscriptions.',\n",
       " 'person': {'id': 2019,\n",
       "  'name': 'Gianluigi Buffon',\n",
       "  'firstName': 'Gianluigi',\n",
       "  'lastName': 'Buffon',\n",
       "  'dateOfBirth': '1978-01-28',\n",
       "  'nationality': 'Italy',\n",
       "  'section': 'Goalkeeper',\n",
       "  'position': None,\n",
       "  'shirtNumber': None,\n",
       "  'lastUpdated': '2023-07-30T17:08:52Z'},\n",
       " 'matches': []}"
      ]
     },
     "execution_count": 7,
     "metadata": {},
     "output_type": "execute_result"
    }
   ],
   "source": [
    "# Codigo base para llamar los distintos endpoints de la API football-data.org\n",
    "\n",
    "# Ejemplo enpoint para obtener los partidos de un jugador (Partidos de Buffon en la temporada 2019)\n",
    "url= \"https://api.football-data.org/v4/persons/2019/matches?status=FINISHED\"\n",
    "\n",
    "response = requests.get(url, headers=headers)\n",
    "response.json()\n",
    "    "
   ]
  },
  {
   "cell_type": "markdown",
   "id": "e58660a4",
   "metadata": {},
   "source": [
    "### Caso de uso 1\n",
    "\n",
    "🔎 Análisis de Rendimiento de un Equipo en una Competencia\n",
    "\n",
    "Objetivo: Obtener el rendimiento detallado de un equipo específico en una liga.\n",
    "\n",
    "Endpoints \n",
    "1.\tGET /v4/competitions/{id}/standings – Para saber la posición del equipo.\n",
    "2.\tGET /v4/teams/{id}/matches – Para listar todos los partidos jugados.\n",
    "3.\tGET /v4/matches/{id} – Para extraer estadísticas detalladas de cada partido.\n",
    "\n",
    "Flujo:\n",
    "1.\tSeleccionar la competencia (ej. Premier League).\n",
    "2.\tBuscar el equipo en los standings.\n",
    "3.\tTraer todos los partidos del equipo.\n",
    "4.\tAnalizar los partidos individualmente (goles, tarjetas, posesión). Para este paso se necesita ser usuario premium de pago\n"
   ]
  },
  {
   "cell_type": "code",
   "execution_count": 8,
   "id": "bc56695e",
   "metadata": {},
   "outputs": [],
   "source": [
    "# Parámetros que puedes modificar\n",
    "COMPETITION_ID = \"PL\" \n",
    "SEASON = \"2024\"  "
   ]
  },
  {
   "cell_type": "code",
   "execution_count": 9,
   "id": "023c984b",
   "metadata": {},
   "outputs": [
    {
     "name": "stdout",
     "output_type": "stream",
     "text": [
      "57 - Arsenal FC\n",
      "58 - Aston Villa FC\n",
      "61 - Chelsea FC\n",
      "62 - Everton FC\n",
      "63 - Fulham FC\n",
      "64 - Liverpool FC\n",
      "65 - Manchester City FC\n",
      "66 - Manchester United FC\n",
      "67 - Newcastle United FC\n",
      "73 - Tottenham Hotspur FC\n",
      "76 - Wolverhampton Wanderers FC\n",
      "338 - Leicester City FC\n",
      "340 - Southampton FC\n",
      "349 - Ipswich Town FC\n",
      "351 - Nottingham Forest FC\n",
      "354 - Crystal Palace FC\n",
      "397 - Brighton & Hove Albion FC\n",
      "402 - Brentford FC\n",
      "563 - West Ham United FC\n",
      "1044 - AFC Bournemouth\n"
     ]
    }
   ],
   "source": [
    "# Paso 1: Obtener la tabla de posiciones (standings) de la competencia\n",
    "teams_url = f\"https://api.football-data.org/v4/competitions/{COMPETITION_ID}/teams?season={SEASON}\"\n",
    "teams_resp = requests.get(teams_url, headers=headers).json()\n",
    "\n",
    "# Mostrar todos los equipos para verificar el nombre y el ID\n",
    "for table in teams_resp.get(\"teams\", []):\n",
    "    print(f\"{table['id']} - {table['name']}\")"
   ]
  },
  {
   "cell_type": "code",
   "execution_count": 4,
   "id": "ed4a8d12",
   "metadata": {},
   "outputs": [
    {
     "name": "stdout",
     "output_type": "stream",
     "text": [
      "✅ El 65 Manchester City FC está en la posición 3 con 71 puntos.\n"
     ]
    }
   ],
   "source": [
    "# Elegir un equipo específico para analizar\n",
    "# Puedes cambiar el nombre del equipo aquí\n",
    "TEAM_NAME = \"Manchester City FC\"\n",
    "\n",
    "# Obtener standings\n",
    "standings_url = f\"https://api.football-data.org/v4/competitions/{COMPETITION_ID}/standings?season={SEASON}\"\n",
    "standings_resp = requests.get(standings_url, headers=headers).json()\n",
    "\n",
    "# Buscar el equipo\n",
    "for table in standings_resp.get(\"standings\", []):\n",
    "    if table.get(\"type\") == \"TOTAL\":\n",
    "        for team in table.get(\"table\", []):\n",
    "            if team[\"team\"][\"name\"] == TEAM_NAME:\n",
    "                team_id = team[\"team\"][\"id\"]\n",
    "                position = team[\"position\"]\n",
    "                points = team[\"points\"]\n",
    "                print(f\"✅ El {team_id} {TEAM_NAME} está en la posición {position} con {points} puntos.\")\n",
    "                break\n",
    "\n",
    "if not team_id:\n",
    "    print(f\"❌ Equipo '{TEAM_NAME}' no encontrado.\")\n"
   ]
  },
  {
   "cell_type": "code",
   "execution_count": 9,
   "id": "2e924b5d",
   "metadata": {},
   "outputs": [
    {
     "name": "stdout",
     "output_type": "stream",
     "text": [
      "📊 Total de partidos jugados: 38\n"
     ]
    }
   ],
   "source": [
    "# Paso 2: Obtener todos los partidos jugados por el equipo seleccionado\n",
    "matches_url = f\"https://api.football-data.org/v4/teams/{team_id}/matches?season={SEASON}&status=FINISHED&competitions={COMPETITION_ID}\"\n",
    "matches_resp = requests.get(matches_url, headers=headers).json()\n",
    "matches = matches_resp.get(\"matches\", [])\n",
    "\n",
    "print(f\"📊 Total de partidos jugados: {len(matches)}\")"
   ]
  },
  {
   "cell_type": "code",
   "execution_count": null,
   "id": "cc155c0f",
   "metadata": {},
   "outputs": [
    {
     "name": "stdout",
     "output_type": "stream",
     "text": [
      "\n",
      "⚽ N/A 0 - 0 N/A\n",
      "   🔍 Estadísticas detalladas no disponibles para este partido.\n",
      "----------------------------------------\n",
      "\n",
      "⚽ N/A 0 - 0 N/A\n",
      "   🔍 Estadísticas detalladas no disponibles para este partido.\n",
      "----------------------------------------\n",
      "\n",
      "⚽ N/A 0 - 0 N/A\n",
      "   🔍 Estadísticas detalladas no disponibles para este partido.\n",
      "----------------------------------------\n",
      "\n",
      "⚽ N/A 0 - 0 N/A\n",
      "   🔍 Estadísticas detalladas no disponibles para este partido.\n",
      "----------------------------------------\n",
      "\n",
      "⚽ N/A 0 - 0 N/A\n",
      "   🔍 Estadísticas detalladas no disponibles para este partido.\n",
      "----------------------------------------\n"
     ]
    }
   ],
   "source": [
    "# Paso 3: Analizar los primeros 5 partidos (puedes cambiar el número)\n",
    "# No se encuentran el equipo en la lista de partidos ya que se necesita ser usuario premium de pago.\n",
    "for match in matches[:5]:\n",
    "    match_id = match[\"id\"]\n",
    "    match_url = f\"https://api.football-data.org/v4/matches/{match_id}\"\n",
    "    match_detail = requests.get(match_url, headers=headers).json()\n",
    "\n",
    "    m = match_detail.get(\"match\", {})\n",
    "    home = m.get(\"homeTeam\", {}).get(\"name\", \"N/A\")\n",
    "    away = m.get(\"awayTeam\", {}).get(\"name\", \"N/A\")\n",
    "    score = m.get(\"score\", {}).get(\"fullTime\", {})\n",
    "    home_goals = score.get(\"home\", 0)\n",
    "    away_goals = score.get(\"away\", 0)\n",
    "\n",
    "    print(f\"\\n⚽ {home} {home_goals} - {away_goals} {away}\")\n",
    "\n",
    "    # Mostrar estadísticas si están disponibles (no todas las APIs gratuitas las ofrecen)\n",
    "    stats = m.get(\"statistics\", [])\n",
    "    if stats:\n",
    "        for stat in stats:\n",
    "            if stat[\"team\"][\"id\"] == team_id:\n",
    "                for s in stat[\"statistics\"]:\n",
    "                    print(f\"   - {s['type']}: {s['value']}\")\n",
    "    else:\n",
    "        print(\"   🔍 Estadísticas detalladas no disponibles para este partido.\")\n",
    "    print(\"-\" * 40)"
   ]
  },
  {
   "cell_type": "markdown",
   "id": "259e8029",
   "metadata": {},
   "source": [
    "### Caso de uso 2\n",
    "\n",
    "📊 Perfil de Jugador\n",
    "\n",
    "Objetivo: Construir un perfil técnico completo de un jugador.\n",
    "\n",
    "Endpoints:\n",
    "1.\tGET /v4/teams/{id} – Para obtener el equipo al que pertenece.\n",
    "2.\tGET /v4/teams/{id} (respuesta contiene squad) – Para encontrar al jugador por ID.\n",
    "3.\tGET /v4/players/{id} – Para obtener los detalles personales y rendimiento (los datos de rendimiento son de la versión de pago).\n",
    "\n",
    "Flujo:\n",
    "1.\tIdentificar el equipo al que pertenece el jugador.\n",
    "2.\tDesde el equipo obtener su plantilla.\n",
    "3.\tSeleccionar el jugador y consultas sus datos.\n"
   ]
  },
  {
   "cell_type": "code",
   "execution_count": 12,
   "id": "69a55424",
   "metadata": {},
   "outputs": [],
   "source": [
    "# 🏟️ Cambia esto por el ID del equipo que quieres analizar\n",
    "TEAM_ID = 65  # Ejemplo: Manchester City"
   ]
  },
  {
   "cell_type": "code",
   "execution_count": null,
   "id": "c0bb5a43",
   "metadata": {},
   "outputs": [
    {
     "name": "stdout",
     "output_type": "stream",
     "text": [
      "🏟️ Equipo: Manchester City FC\n",
      "🌍 País: England\n",
      "🛡️ Siglas: MCI\n"
     ]
    }
   ],
   "source": [
    "# Paso 1: Obtener información del equipo\n",
    "team_url = f\"https://api.football-data.org/v4/teams/{TEAM_ID}\"\n",
    "team_resp = requests.get(team_url, headers=headers).json()\n",
    "\n",
    "print(f\"🏟️ Equipo: {team_resp.get('name')}\")\n",
    "print(f\"🌍 País: {team_resp.get('area', {}).get('name')}\")\n",
    "print(f\"🛡️ Siglas: {team_resp.get('tla')}\")"
   ]
  },
  {
   "cell_type": "code",
   "execution_count": null,
   "id": "068ad0d1",
   "metadata": {},
   "outputs": [
    {
     "name": "stdout",
     "output_type": "stream",
     "text": [
      "3222 - Ederson\n",
      "3953 - Marcus Bettinelli\n",
      "6958 - Stefan Ortega Moreno\n",
      "153874 - James Trafford\n",
      "180453 - Sverre Nypan\n",
      "206743 - Nico O'Reilly\n",
      "38101 - Erling Haaland\n",
      "10183 - Rúben Dias\n",
      "8642 - Rayan Aït Nouri\n",
      "8240 - Nathan Aké\n",
      "7888 - Phil Foden\n",
      "7696 - Tijjani Reijnders\n",
      "4147 - Kalvin Phillips\n",
      "3895 - Jack Grealish\n",
      "3313 - John Stones\n",
      "3254 - Bernardo Silva\n",
      "3199 - Rodri\n",
      "3182 - Ilkay Gündogan\n",
      "143 - Manuel Akanji\n",
      "65 - Mateo Kovačić\n",
      "212868 - Abdukodir Khusanov\n",
      "206908 - Claudio Echeverri\n",
      "187202 - Rico Lewis\n",
      "179716 - Oscar Bobb\n",
      "172956 - James McAtee\n",
      "172791 - Josh Wilson-Esbrand\n",
      "171986 - Nico Gonzalez\n",
      "146352 - Sávio\n",
      "133242 - Rayan Cherki\n",
      "123574 - Issa Kaboré\n",
      "122266 - Joško Gvardiol\n",
      "99775 - Jeremy Doku\n",
      "91512 - Matheus Nunes\n",
      "66896 - Omar Marmoush\n"
     ]
    }
   ],
   "source": [
    "# Paso 2: Mostrar la plantilla del equipo para verificar el nombre y el ID\n",
    "for table in team_resp.get(\"squad\", []):\n",
    "    print(f\"{table['id']} - {table['name']}\")"
   ]
  },
  {
   "cell_type": "code",
   "execution_count": 20,
   "id": "e3e60e54",
   "metadata": {},
   "outputs": [
    {
     "name": "stdout",
     "output_type": "stream",
     "text": [
      "😎 Nombre: Erling Haaland\n",
      "🎂 Fecha de nacimiento: 2000-07-21\n",
      "👕 Número: 9\n",
      "⚽ Posición: Centre-Forward\n",
      "🌍 Nacionalidad: Norway\n",
      "📃 Contrato: Desde 2022-07 hasta 2034-06\n"
     ]
    }
   ],
   "source": [
    "# Paso 3: Seleccionar el Id de un jugador específico para analizar usando la lista de jugadores del paso 2\n",
    "player_id = '38101'\n",
    "\n",
    "if player_id:\n",
    "    player_url = f\"https://api.football-data.org/v4/persons/{player_id}\"\n",
    "    player_resp = requests.get(player_url, headers=headers).json()\n",
    "    \n",
    "    print(f\"😎 Nombre: {player_resp.get('name')}\")\n",
    "    print(f\"🎂 Fecha de nacimiento: {player_resp.get('dateOfBirth')}\")\n",
    "    print(f\"👕 Número: {player_resp.get('shirtNumber')}\")\n",
    "    print(f\"⚽ Posición: {player_resp.get('section')}\")\n",
    "    print(f\"🌍 Nacionalidad: {player_resp.get('nationality')}\")\n",
    "    print(f\"📃 Contrato: Desde {player_resp.get('currentTeam', {}).get('contract', {}).get('start')} hasta {player_resp.get('currentTeam', {}).get('contract', {}).get('until')}\")\n",
    "    \n"
   ]
  },
  {
   "cell_type": "markdown",
   "id": "1a828d79",
   "metadata": {},
   "source": [
    "\n",
    "###  Caso de Uso 3: \n",
    "\n",
    "📅 Calendario y Resultados de una Competencia\n",
    "\n",
    "Objetivo: Mostrar todos los partidos de una competición con resultados actualizados.\n",
    "\n",
    "1.\tGET /v4/competitions/{id}/matches – Para obtener el calendario completo.\n",
    "2.\tGET /v4/matches/{id} – Para profundizar en cada partido (estadísticas y eventos con usuario de pago).\n",
    "3.\tGET /v4/teams/{id} – Para mostrar escudos, nombres, y datos de los equipos en los partidos.\n",
    "\n",
    "Flujo:\n",
    "1.\tEl usuario selecciona una liga (ej. La Premier).\n",
    "2.\tSe listan los partidos, fechas y resultados.\n",
    "3.\tEl usuario puede elegir un partido para ver estadísticas y jugadores destacados."
   ]
  },
  {
   "cell_type": "code",
   "execution_count": 3,
   "id": "d6fa052d",
   "metadata": {},
   "outputs": [],
   "source": [
    "# 🏆 Competencia que deseas consultar\n",
    "COMPETITION_ID = \"PL\"  # LaLiga"
   ]
  },
  {
   "cell_type": "code",
   "execution_count": null,
   "id": "cd00eee0",
   "metadata": {},
   "outputs": [
    {
     "name": "stdout",
     "output_type": "stream",
     "text": [
      "1. Manchester United FC vs Fulham FC (Match_Id: 497410)\n",
      "2. Ipswich Town FC vs Liverpool FC (Match_Id: 497411)\n",
      "3. Arsenal FC vs Wolverhampton Wanderers FC (Match_Id: 497412)\n",
      "4. Everton FC vs Brighton & Hove Albion FC (Match_Id: 497413)\n",
      "5. Newcastle United FC vs Southampton FC (Match_Id: 497414)\n",
      "6. Nottingham Forest FC vs AFC Bournemouth (Match_Id: 497415)\n",
      "7. West Ham United FC vs Aston Villa FC (Match_Id: 497416)\n",
      "8. Brentford FC vs Crystal Palace FC (Match_Id: 497417)\n",
      "9. Chelsea FC vs Manchester City FC (Match_Id: 497418)\n",
      "10. Leicester City FC vs Tottenham Hotspur FC (Match_Id: 497419)\n"
     ]
    }
   ],
   "source": [
    "# Paso 1: Obtener partidos con su respectivo Id\n",
    "matches_url = f\"https://api.football-data.org/v4/competitions/{COMPETITION_ID}/matches?season=2024\"\n",
    "matches_resp = requests.get(matches_url, headers=headers).json()\n",
    "\n",
    "matches = matches_resp.get(\"matches\", [])\n",
    "\n",
    "# mostramos los primeros 10\n",
    "for i, match in enumerate(matches[:10], start=1):  \n",
    "\n",
    "    home_team = match[\"homeTeam\"][\"name\"]\n",
    "    away_team = match[\"awayTeam\"][\"name\"]\n",
    "    print(f\"{i}. {home_team} vs {away_team} (Match_Id: {match['id']})\")"
   ]
  },
  {
   "cell_type": "code",
   "execution_count": 14,
   "id": "38a52eb2",
   "metadata": {},
   "outputs": [
    {
     "name": "stdout",
     "output_type": "stream",
     "text": [
      "🏟️ Arsenal FC vs Wolverhampton Wanderers FC\n",
      "📆 Fecha: 2024-08-17\n",
      "⏰ Hora(UTC): 14:00:00\n",
      "⚽ Resultado: ARS 2 : WOL 0\n",
      "🚩 Árbitro: Jarred Gillett - 🌍 Nacionalidad: Australia\n"
     ]
    }
   ],
   "source": [
    "# Paso 2: Seleccionar un partido y mostrar detalles (las estadísticas no estan disponibles en la versión gratuita de la API)\n",
    "\n",
    "# Cambiar este ID por el que se quiera ver\n",
    "match_id = 497412\n",
    "\n",
    "match_detail_url = f\"https://api.football-data.org/v4/matches/{match_id}\"\n",
    "match_detail_resp = requests.get(match_detail_url, headers=headers).json()\n",
    "\n",
    "# Extraer detalles del partido, fecha y hora\n",
    "print(f\"🏟️ {match_detail_resp.get('homeTeam', {}).get('name')} vs {match_detail_resp.get('awayTeam', {}).get('name')}\")\n",
    "date_obj = datetime.fromisoformat(match_detail_resp.get('utcDate').replace(\"Z\", \"+00:00\"))\n",
    "print(f\"📆 Fecha: {date_obj.date()}\")\n",
    "print(f\"⏰ Hora(UTC): {date_obj.time()}\")\n",
    "# Extraer el resultado del partido\n",
    "home_team = match_detail_resp[\"homeTeam\"][\"tla\"]\n",
    "away_team = match_detail_resp[\"awayTeam\"][\"tla\"]\n",
    "score = match_detail_resp.get(\"score\", {}).get(\"fullTime\", {})\n",
    "home_score = score.get(\"home\", \"-\")\n",
    "away_score = score.get(\"away\", \"-\")\n",
    "print(f\"⚽ Resultado: {home_team} {home_score} : {away_team} {away_score}\")\n",
    "# Extraer información del referee\n",
    "referee = match_detail_resp.get(\"referees\", [{}])[0].get(\"name\")\n",
    "nationality = match_detail_resp.get(\"referees\", [{}])[0].get(\"nationality\")\n",
    "print(f\"🚩 Árbitro: {referee} - 🌍 Nacionalidad: {nationality}\")"
   ]
  }
 ],
 "metadata": {
  "kernelspec": {
   "display_name": "py310",
   "language": "python",
   "name": "python3"
  },
  "language_info": {
   "codemirror_mode": {
    "name": "ipython",
    "version": 3
   },
   "file_extension": ".py",
   "mimetype": "text/x-python",
   "name": "python",
   "nbconvert_exporter": "python",
   "pygments_lexer": "ipython3",
   "version": "3.10.16"
  }
 },
 "nbformat": 4,
 "nbformat_minor": 5
}
